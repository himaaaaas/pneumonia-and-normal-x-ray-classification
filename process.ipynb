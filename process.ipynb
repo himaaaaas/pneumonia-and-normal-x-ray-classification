{
 "cells": [
  {
   "cell_type": "code",
   "execution_count": 15,
   "id": "fdb3a350",
   "metadata": {},
   "outputs": [],
   "source": [
    "import numpy as np\n",
    "from PIL import Image\n",
    "import os\n",
    "import pandas as pd\n",
    "from pathlib import Path\n",
    "from glob import glob\n",
    "from torchvision import transforms"
   ]
  },
  {
   "cell_type": "code",
   "execution_count": 3,
   "id": "92037381",
   "metadata": {},
   "outputs": [],
   "source": [
    "def process_image(image_path):\n",
    "    img=glob(image_path +\"/*.jpeg\")\n",
    "    path=Path(image_path).name\n",
    "    split=Path(image_path).parent.name\n",
    "    return pd.DataFrame(\n",
    "    {\n",
    "        \"image_path\":img,\n",
    "        \"class\":path,\n",
    "        \"split\":split\n",
    "    }\n",
    ")"
   ]
  },
  {
   "cell_type": "code",
   "execution_count": 4,
   "id": "d43c4282",
   "metadata": {},
   "outputs": [],
   "source": [
    "train_normal_df=process_image(r'C:\\Users\\ihhim\\OneDrive\\Desktop\\project1\\data\\chest_xray\\train\\NORMAL')\n",
    "train_pneumonia_df=process_image(r'C:\\Users\\ihhim\\OneDrive\\Desktop\\project1\\data\\chest_xray\\train\\PNEUMONIA')\n",
    "test_normal_df=process_image(r'C:\\Users\\ihhim\\OneDrive\\Desktop\\project1\\data\\chest_xray\\test\\NORMAL')\n",
    "test_pneumonia_df=process_image(r'C:\\Users\\ihhim\\OneDrive\\Desktop\\project1\\data\\chest_xray\\test\\PNEUMONIA')\n",
    "val_normal_df=process_image(r'C:\\Users\\ihhim\\OneDrive\\Desktop\\project1\\data\\chest_xray\\val\\NORMAL')\n",
    "val_pneumonia_df=process_image(r'C:\\Users\\ihhim\\OneDrive\\Desktop\\project1\\data\\chest_xray\\val\\PNEUMONIA')"
   ]
  },
  {
   "cell_type": "code",
   "execution_count": 9,
   "id": "e661b2aa",
   "metadata": {},
   "outputs": [
    {
     "name": "stdout",
     "output_type": "stream",
     "text": [
      "1341\n",
      "3875\n"
     ]
    }
   ],
   "source": [
    "print(len(train_normal_df))\n",
    "print(len(train_pneumonia_df))"
   ]
  },
  {
   "cell_type": "code",
   "execution_count": 12,
   "id": "4e7c5b46",
   "metadata": {},
   "outputs": [
    {
     "data": {
      "text/plain": [
       "2534"
      ]
     },
     "execution_count": 12,
     "metadata": {},
     "output_type": "execute_result"
    }
   ],
   "source": [
    "count=abs(len(train_normal_df)-len(train_pneumonia_df)) \n",
    "count"
   ]
  },
  {
   "cell_type": "code",
   "execution_count": 16,
   "id": "002944e4",
   "metadata": {},
   "outputs": [],
   "source": [
    "augmentation=transforms.Compose([\n",
    "    transforms.RandomHorizontalFlip(p=0.5),\n",
    "    transforms.RandomRotation(20)])\n",
    "\n",
    "augmented_rows=[]"
   ]
  },
  {
   "cell_type": "code",
   "execution_count": 17,
   "id": "f5430cce",
   "metadata": {},
   "outputs": [],
   "source": [
    "for idx in range(count):\n",
    "    row=train_normal_df.sample(1,random_state=idx).iloc[0]\n",
    "    img=Image.open(row['image_path'])\n",
    "    img_augmented=augmentation(img)\n",
    "    new_path=os.path.join(r'C:\\Users\\ihhim\\OneDrive\\Desktop\\project1\\data\\chest_xray\\train\\NORMAL',f\"augmented_{idx}.jpeg\")\n",
    "    img_augmented.save(new_path)\n",
    "    augmented_rows.append({\n",
    "        \"image_path\":new_path,\n",
    "        \"class\":row['class'],\n",
    "        \"split\":row['split']\n",
    "        })\n",
    "augmented_df=pd.DataFrame(augmented_rows)\n",
    "train_normal_df=pd.concat([train_normal_df,augmented_df]).sample(frac=1,random_state=42)"
   ]
  },
  {
   "cell_type": "code",
   "execution_count": 19,
   "id": "062f5735",
   "metadata": {},
   "outputs": [
    {
     "name": "stdout",
     "output_type": "stream",
     "text": [
      "3875\n",
      "3875\n"
     ]
    }
   ],
   "source": [
    "print(len(train_normal_df))\n",
    "print(len(train_pneumonia_df))"
   ]
  },
  {
   "cell_type": "code",
   "execution_count": 20,
   "id": "96674e7b",
   "metadata": {},
   "outputs": [],
   "source": [
    "train_df=pd.concat([train_normal_df,train_pneumonia_df]).sample(frac=1,random_state=42)"
   ]
  },
  {
   "cell_type": "code",
   "execution_count": 21,
   "id": "5a725f71",
   "metadata": {},
   "outputs": [],
   "source": [
    "dataframe=pd.concat([train_df,val_normal_df,val_pneumonia_df,test_normal_df,test_pneumonia_df])\n",
    "dataframe.to_csv(r'C:\\Users\\ihhim\\OneDrive\\Desktop\\project1\\data\\chest_xray\\metadata.csv', index=False)"
   ]
  },
  {
   "cell_type": "code",
   "execution_count": 22,
   "id": "5891a85d",
   "metadata": {},
   "outputs": [
    {
     "name": "stdout",
     "output_type": "stream",
     "text": [
      "class\n",
      "PNEUMONIA    4273\n",
      "NORMAL       4117\n",
      "Name: count, dtype: int64\n"
     ]
    }
   ],
   "source": [
    "print(dataframe['class'].value_counts())"
   ]
  },
  {
   "cell_type": "code",
   "execution_count": 23,
   "id": "42b85086",
   "metadata": {},
   "outputs": [
    {
     "data": {
      "text/html": [
       "<div>\n",
       "<style scoped>\n",
       "    .dataframe tbody tr th:only-of-type {\n",
       "        vertical-align: middle;\n",
       "    }\n",
       "\n",
       "    .dataframe tbody tr th {\n",
       "        vertical-align: top;\n",
       "    }\n",
       "\n",
       "    .dataframe thead th {\n",
       "        text-align: right;\n",
       "    }\n",
       "</style>\n",
       "<table border=\"1\" class=\"dataframe\">\n",
       "  <thead>\n",
       "    <tr style=\"text-align: right;\">\n",
       "      <th></th>\n",
       "      <th>image_path</th>\n",
       "      <th>class</th>\n",
       "      <th>split</th>\n",
       "    </tr>\n",
       "  </thead>\n",
       "  <tbody>\n",
       "    <tr>\n",
       "      <th>1999</th>\n",
       "      <td>C:\\Users\\ihhim\\OneDrive\\Desktop\\project1\\data\\...</td>\n",
       "      <td>NORMAL</td>\n",
       "      <td>train</td>\n",
       "    </tr>\n",
       "    <tr>\n",
       "      <th>1959</th>\n",
       "      <td>C:\\Users\\ihhim\\OneDrive\\Desktop\\project1\\data\\...</td>\n",
       "      <td>PNEUMONIA</td>\n",
       "      <td>train</td>\n",
       "    </tr>\n",
       "    <tr>\n",
       "      <th>1047</th>\n",
       "      <td>C:\\Users\\ihhim\\OneDrive\\Desktop\\project1\\data\\...</td>\n",
       "      <td>PNEUMONIA</td>\n",
       "      <td>train</td>\n",
       "    </tr>\n",
       "    <tr>\n",
       "      <th>1214</th>\n",
       "      <td>C:\\Users\\ihhim\\OneDrive\\Desktop\\project1\\data\\...</td>\n",
       "      <td>NORMAL</td>\n",
       "      <td>train</td>\n",
       "    </tr>\n",
       "    <tr>\n",
       "      <th>1294</th>\n",
       "      <td>C:\\Users\\ihhim\\OneDrive\\Desktop\\project1\\data\\...</td>\n",
       "      <td>NORMAL</td>\n",
       "      <td>train</td>\n",
       "    </tr>\n",
       "  </tbody>\n",
       "</table>\n",
       "</div>"
      ],
      "text/plain": [
       "                                             image_path      class  split\n",
       "1999  C:\\Users\\ihhim\\OneDrive\\Desktop\\project1\\data\\...     NORMAL  train\n",
       "1959  C:\\Users\\ihhim\\OneDrive\\Desktop\\project1\\data\\...  PNEUMONIA  train\n",
       "1047  C:\\Users\\ihhim\\OneDrive\\Desktop\\project1\\data\\...  PNEUMONIA  train\n",
       "1214  C:\\Users\\ihhim\\OneDrive\\Desktop\\project1\\data\\...     NORMAL  train\n",
       "1294  C:\\Users\\ihhim\\OneDrive\\Desktop\\project1\\data\\...     NORMAL  train"
      ]
     },
     "execution_count": 23,
     "metadata": {},
     "output_type": "execute_result"
    }
   ],
   "source": [
    "dataframe.head()"
   ]
  },
  {
   "cell_type": "code",
   "execution_count": 24,
   "id": "baa9d03a",
   "metadata": {},
   "outputs": [],
   "source": [
    "WIDTH=128\n",
    "HEIGHT=128\n",
    "for i,row in dataframe.iterrows():\n",
    "    img=Image.open(row['image_path'])\n",
    "    img=img.resize((WIDTH,HEIGHT))\n",
    "    img.save(row['image_path'])"
   ]
  }
 ],
 "metadata": {
  "kernelspec": {
   "display_name": "base",
   "language": "python",
   "name": "python3"
  },
  "language_info": {
   "codemirror_mode": {
    "name": "ipython",
    "version": 3
   },
   "file_extension": ".py",
   "mimetype": "text/x-python",
   "name": "python",
   "nbconvert_exporter": "python",
   "pygments_lexer": "ipython3",
   "version": "3.12.4"
  }
 },
 "nbformat": 4,
 "nbformat_minor": 5
}
